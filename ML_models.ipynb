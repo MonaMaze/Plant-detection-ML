{
 "cells": [
  {
   "cell_type": "markdown",
   "id": "eb54c2d4-6aa4-4118-a65e-b95a99d6ab86",
   "metadata": {},
   "source": [
    "# Load Packages"
   ]
  },
  {
   "cell_type": "code",
   "execution_count": 1,
   "id": "22477ac3-4b37-4b5a-8a60-f7cf7225d734",
   "metadata": {},
   "outputs": [],
   "source": [
    "# Import required Dependencies\n",
    "import cv2\n",
    "import os\n",
    "import numpy as np\n",
    "import matplotlib.pyplot as plt\n",
    "import pandas as pd\n",
    "import seaborn as sns\n",
    "import sklearn\n",
    "\n",
    "# Pre Processing\n",
    "from sklearn.model_selection import train_test_split\n",
    "from sklearn.preprocessing import StandardScaler\n",
    "from sklearn.preprocessing import MinMaxScaler\n",
    "from sklearn.decomposition import PCA\n",
    "\n",
    "# Error Metrics\n",
    "from sklearn import metrics\n",
    "from sklearn.metrics import mean_absolute_error\n",
    "from sklearn.metrics import mean_squared_error\n",
    "from sklearn.metrics import r2_score\n",
    "\n",
    "# Regressors\n",
    "from sklearn.ensemble import GradientBoostingRegressor\n",
    "from sklearn.ensemble import RandomForestRegressor\n",
    "from sklearn.linear_model import LinearRegression\n",
    "from sklearn.ensemble import VotingRegressor\n",
    "\n",
    "# Classifiers\n",
    "from sklearn import svm\n",
    "from sklearn import linear_model\n",
    "from sklearn.svm import SVC, LinearSVC\n",
    "from sklearn.ensemble import RandomForestClassifier\n",
    "from sklearn.neighbors import KNeighborsClassifier\n",
    "from sklearn.naive_bayes import GaussianNB\n",
    "from sklearn.linear_model import Perceptron\n",
    "from sklearn.linear_model import SGDClassifier\n",
    "from sklearn.tree import DecisionTreeClassifier\n",
    "from sklearn.ensemble import RandomForestClassifier, GradientBoostingClassifier\n",
    "\n",
    "#Cross Validation \n",
    "from sklearn.model_selection import GridSearchCV"
   ]
  },
  {
   "cell_type": "code",
   "execution_count": 2,
   "id": "2065ed04-6c77-453a-9d8b-847f8036bdfc",
   "metadata": {},
   "outputs": [],
   "source": [
    "import os\n",
    "\n",
    "# Where to save the figures\n",
    "PROJECT_ROOT_DIR = \".\"\n",
    "CHAPTER_ID = \"plants\"\n",
    "IMAGES_PATH = os.path.join(PROJECT_ROOT_DIR, \"images\", CHAPTER_ID)\n",
    "os.makedirs(IMAGES_PATH, exist_ok=True)\n",
    "\n",
    "def save_fig(fig_id, tight_layout=True, fig_extension=\"png\", resolution=300):\n",
    "    path = os.path.join(IMAGES_PATH, fig_id + \".\" + fig_extension)\n",
    "    print(\"Saving figure\", fig_id)\n",
    "    if tight_layout:\n",
    "        plt.tight_layout()\n",
    "    plt.savefig(path, format=fig_extension, dpi=resolution, bbox_inches='tight')\n",
    "\n",
    "# Ignore useless warnings (see SciPy issue #5998)\n",
    "import warnings\n",
    "warnings.filterwarnings(action=\"ignore\", message=\"^internal gelsd\")"
   ]
  },
  {
   "cell_type": "code",
   "execution_count": 5,
   "id": "6c1f2f27-5467-42fb-9358-53f01c26087c",
   "metadata": {},
   "outputs": [
    {
     "name": "stdout",
     "output_type": "stream",
     "text": [
      "<class 'pandas.core.frame.DataFrame'>\n",
      "Int64Index: 4400 entries, 0 to 1099\n",
      "Columns: 40001 entries, label to pixel39999\n",
      "dtypes: int64(40000), object(1)\n",
      "memory usage: 1.3+ GB\n"
     ]
    }
   ],
   "source": [
    "# df = train_df.append(test_df)\n",
    "# Load all csv file in dataframe\n",
    "df = pd.read_csv(\"all.csv\")\n",
    "df.info()"
   ]
  },
  {
   "cell_type": "code",
   "execution_count": 6,
   "id": "6c20dbac-0d96-4629-be6f-f297621aa5ec",
   "metadata": {},
   "outputs": [
    {
     "data": {
      "text/html": [
       "<div>\n",
       "<style scoped>\n",
       "    .dataframe tbody tr th:only-of-type {\n",
       "        vertical-align: middle;\n",
       "    }\n",
       "\n",
       "    .dataframe tbody tr th {\n",
       "        vertical-align: top;\n",
       "    }\n",
       "\n",
       "    .dataframe thead th {\n",
       "        text-align: right;\n",
       "    }\n",
       "</style>\n",
       "<table border=\"1\" class=\"dataframe\">\n",
       "  <thead>\n",
       "    <tr style=\"text-align: right;\">\n",
       "      <th></th>\n",
       "      <th>label</th>\n",
       "      <th>pixel0</th>\n",
       "      <th>pixel1</th>\n",
       "      <th>pixel2</th>\n",
       "      <th>pixel3</th>\n",
       "      <th>pixel4</th>\n",
       "      <th>pixel5</th>\n",
       "      <th>pixel6</th>\n",
       "      <th>pixel7</th>\n",
       "      <th>pixel8</th>\n",
       "      <th>...</th>\n",
       "      <th>pixel39990</th>\n",
       "      <th>pixel39991</th>\n",
       "      <th>pixel39992</th>\n",
       "      <th>pixel39993</th>\n",
       "      <th>pixel39994</th>\n",
       "      <th>pixel39995</th>\n",
       "      <th>pixel39996</th>\n",
       "      <th>pixel39997</th>\n",
       "      <th>pixel39998</th>\n",
       "      <th>pixel39999</th>\n",
       "    </tr>\n",
       "  </thead>\n",
       "  <tbody>\n",
       "    <tr>\n",
       "      <th>0</th>\n",
       "      <td>Atriplex</td>\n",
       "      <td>88</td>\n",
       "      <td>111</td>\n",
       "      <td>88</td>\n",
       "      <td>73</td>\n",
       "      <td>39</td>\n",
       "      <td>37</td>\n",
       "      <td>53</td>\n",
       "      <td>42</td>\n",
       "      <td>44</td>\n",
       "      <td>...</td>\n",
       "      <td>123</td>\n",
       "      <td>86</td>\n",
       "      <td>75</td>\n",
       "      <td>67</td>\n",
       "      <td>98</td>\n",
       "      <td>137</td>\n",
       "      <td>148</td>\n",
       "      <td>178</td>\n",
       "      <td>188</td>\n",
       "      <td>168</td>\n",
       "    </tr>\n",
       "    <tr>\n",
       "      <th>1</th>\n",
       "      <td>Atriplex</td>\n",
       "      <td>109</td>\n",
       "      <td>123</td>\n",
       "      <td>76</td>\n",
       "      <td>70</td>\n",
       "      <td>91</td>\n",
       "      <td>114</td>\n",
       "      <td>103</td>\n",
       "      <td>87</td>\n",
       "      <td>57</td>\n",
       "      <td>...</td>\n",
       "      <td>179</td>\n",
       "      <td>186</td>\n",
       "      <td>189</td>\n",
       "      <td>193</td>\n",
       "      <td>187</td>\n",
       "      <td>187</td>\n",
       "      <td>185</td>\n",
       "      <td>183</td>\n",
       "      <td>183</td>\n",
       "      <td>183</td>\n",
       "    </tr>\n",
       "    <tr>\n",
       "      <th>2</th>\n",
       "      <td>Atriplex</td>\n",
       "      <td>74</td>\n",
       "      <td>77</td>\n",
       "      <td>84</td>\n",
       "      <td>60</td>\n",
       "      <td>66</td>\n",
       "      <td>155</td>\n",
       "      <td>65</td>\n",
       "      <td>72</td>\n",
       "      <td>89</td>\n",
       "      <td>...</td>\n",
       "      <td>199</td>\n",
       "      <td>170</td>\n",
       "      <td>192</td>\n",
       "      <td>239</td>\n",
       "      <td>245</td>\n",
       "      <td>225</td>\n",
       "      <td>215</td>\n",
       "      <td>225</td>\n",
       "      <td>224</td>\n",
       "      <td>225</td>\n",
       "    </tr>\n",
       "    <tr>\n",
       "      <th>3</th>\n",
       "      <td>Atriplex</td>\n",
       "      <td>29</td>\n",
       "      <td>51</td>\n",
       "      <td>55</td>\n",
       "      <td>56</td>\n",
       "      <td>35</td>\n",
       "      <td>69</td>\n",
       "      <td>36</td>\n",
       "      <td>45</td>\n",
       "      <td>51</td>\n",
       "      <td>...</td>\n",
       "      <td>53</td>\n",
       "      <td>55</td>\n",
       "      <td>67</td>\n",
       "      <td>110</td>\n",
       "      <td>158</td>\n",
       "      <td>168</td>\n",
       "      <td>163</td>\n",
       "      <td>184</td>\n",
       "      <td>187</td>\n",
       "      <td>197</td>\n",
       "    </tr>\n",
       "    <tr>\n",
       "      <th>4</th>\n",
       "      <td>Atriplex</td>\n",
       "      <td>39</td>\n",
       "      <td>49</td>\n",
       "      <td>136</td>\n",
       "      <td>65</td>\n",
       "      <td>17</td>\n",
       "      <td>10</td>\n",
       "      <td>12</td>\n",
       "      <td>21</td>\n",
       "      <td>41</td>\n",
       "      <td>...</td>\n",
       "      <td>169</td>\n",
       "      <td>170</td>\n",
       "      <td>181</td>\n",
       "      <td>192</td>\n",
       "      <td>188</td>\n",
       "      <td>191</td>\n",
       "      <td>191</td>\n",
       "      <td>173</td>\n",
       "      <td>179</td>\n",
       "      <td>188</td>\n",
       "    </tr>\n",
       "  </tbody>\n",
       "</table>\n",
       "<p>5 rows × 40001 columns</p>\n",
       "</div>"
      ],
      "text/plain": [
       "      label  pixel0  pixel1  pixel2  pixel3  pixel4  pixel5  pixel6  pixel7  \\\n",
       "0  Atriplex      88     111      88      73      39      37      53      42   \n",
       "1  Atriplex     109     123      76      70      91     114     103      87   \n",
       "2  Atriplex      74      77      84      60      66     155      65      72   \n",
       "3  Atriplex      29      51      55      56      35      69      36      45   \n",
       "4  Atriplex      39      49     136      65      17      10      12      21   \n",
       "\n",
       "   pixel8  ...  pixel39990  pixel39991  pixel39992  pixel39993  pixel39994  \\\n",
       "0      44  ...         123          86          75          67          98   \n",
       "1      57  ...         179         186         189         193         187   \n",
       "2      89  ...         199         170         192         239         245   \n",
       "3      51  ...          53          55          67         110         158   \n",
       "4      41  ...         169         170         181         192         188   \n",
       "\n",
       "   pixel39995  pixel39996  pixel39997  pixel39998  pixel39999  \n",
       "0         137         148         178         188         168  \n",
       "1         187         185         183         183         183  \n",
       "2         225         215         225         224         225  \n",
       "3         168         163         184         187         197  \n",
       "4         191         191         173         179         188  \n",
       "\n",
       "[5 rows x 40001 columns]"
      ]
     },
     "execution_count": 6,
     "metadata": {},
     "output_type": "execute_result"
    }
   ],
   "source": [
    "df.head()"
   ]
  },
  {
   "cell_type": "code",
   "execution_count": 6,
   "id": "fc376ef0-c426-43b0-9523-e6f69085f36f",
   "metadata": {},
   "outputs": [
    {
     "data": {
      "text/plain": [
       "Atriplex                 400\n",
       "Calotropis procera       400\n",
       "Capparis                 400\n",
       "Deplotaxis harra         400\n",
       "Forskalii                400\n",
       "Heliotropium             400\n",
       "Lycium shawii            400\n",
       "Ocradinus                400\n",
       "Pharsetia aegyptia       400\n",
       "Zilla spinosa            400\n",
       "Zygophyllum coccinium    400\n",
       "Name: label, dtype: int64"
      ]
     },
     "execution_count": 6,
     "metadata": {},
     "output_type": "execute_result"
    }
   ],
   "source": [
    "df.label.value_counts()"
   ]
  },
  {
   "cell_type": "code",
   "execution_count": 8,
   "id": "e9012dd9-a3b4-414f-b120-cb6a11e5e99f",
   "metadata": {},
   "outputs": [
    {
     "data": {
      "text/plain": [
       "label         0\n",
       "pixel0        0\n",
       "pixel1        0\n",
       "pixel2        0\n",
       "pixel3        0\n",
       "             ..\n",
       "pixel39995    0\n",
       "pixel39996    0\n",
       "pixel39997    0\n",
       "pixel39998    0\n",
       "pixel39999    0\n",
       "Length: 40001, dtype: int64"
      ]
     },
     "execution_count": 8,
     "metadata": {},
     "output_type": "execute_result"
    }
   ],
   "source": [
    "df.isnull().sum()"
   ]
  },
  {
   "cell_type": "code",
   "execution_count": 9,
   "id": "e75a7385-f774-41b4-9ba9-f76da1b0d3fe",
   "metadata": {},
   "outputs": [
    {
     "data": {
      "text/html": [
       "<div>\n",
       "<style scoped>\n",
       "    .dataframe tbody tr th:only-of-type {\n",
       "        vertical-align: middle;\n",
       "    }\n",
       "\n",
       "    .dataframe tbody tr th {\n",
       "        vertical-align: top;\n",
       "    }\n",
       "\n",
       "    .dataframe thead th {\n",
       "        text-align: right;\n",
       "    }\n",
       "</style>\n",
       "<table border=\"1\" class=\"dataframe\">\n",
       "  <thead>\n",
       "    <tr style=\"text-align: right;\">\n",
       "      <th></th>\n",
       "      <th>pixel0</th>\n",
       "      <th>pixel1</th>\n",
       "      <th>pixel2</th>\n",
       "      <th>pixel3</th>\n",
       "      <th>pixel4</th>\n",
       "      <th>pixel5</th>\n",
       "      <th>pixel6</th>\n",
       "      <th>pixel7</th>\n",
       "      <th>pixel8</th>\n",
       "      <th>pixel9</th>\n",
       "      <th>...</th>\n",
       "      <th>pixel39990</th>\n",
       "      <th>pixel39991</th>\n",
       "      <th>pixel39992</th>\n",
       "      <th>pixel39993</th>\n",
       "      <th>pixel39994</th>\n",
       "      <th>pixel39995</th>\n",
       "      <th>pixel39996</th>\n",
       "      <th>pixel39997</th>\n",
       "      <th>pixel39998</th>\n",
       "      <th>pixel39999</th>\n",
       "    </tr>\n",
       "  </thead>\n",
       "  <tbody>\n",
       "    <tr>\n",
       "      <th>count</th>\n",
       "      <td>4400.000000</td>\n",
       "      <td>4400.000000</td>\n",
       "      <td>4400.000000</td>\n",
       "      <td>4400.000000</td>\n",
       "      <td>4400.000000</td>\n",
       "      <td>4400.000000</td>\n",
       "      <td>4400.000000</td>\n",
       "      <td>4400.000000</td>\n",
       "      <td>4400.000000</td>\n",
       "      <td>4400.000000</td>\n",
       "      <td>...</td>\n",
       "      <td>4400.000000</td>\n",
       "      <td>4400.000000</td>\n",
       "      <td>4400.000000</td>\n",
       "      <td>4400.000000</td>\n",
       "      <td>4400.000000</td>\n",
       "      <td>4400.000000</td>\n",
       "      <td>4400.000000</td>\n",
       "      <td>4400.000000</td>\n",
       "      <td>4400.000000</td>\n",
       "      <td>4400.000000</td>\n",
       "    </tr>\n",
       "    <tr>\n",
       "      <th>mean</th>\n",
       "      <td>147.846818</td>\n",
       "      <td>148.061136</td>\n",
       "      <td>148.150455</td>\n",
       "      <td>147.713409</td>\n",
       "      <td>146.667045</td>\n",
       "      <td>148.185455</td>\n",
       "      <td>148.241591</td>\n",
       "      <td>149.102727</td>\n",
       "      <td>148.324091</td>\n",
       "      <td>148.221818</td>\n",
       "      <td>...</td>\n",
       "      <td>122.019545</td>\n",
       "      <td>121.823864</td>\n",
       "      <td>120.759318</td>\n",
       "      <td>121.628182</td>\n",
       "      <td>122.100682</td>\n",
       "      <td>121.042500</td>\n",
       "      <td>120.713864</td>\n",
       "      <td>120.187273</td>\n",
       "      <td>120.156136</td>\n",
       "      <td>121.302045</td>\n",
       "    </tr>\n",
       "    <tr>\n",
       "      <th>std</th>\n",
       "      <td>58.279314</td>\n",
       "      <td>58.254313</td>\n",
       "      <td>58.245513</td>\n",
       "      <td>58.154261</td>\n",
       "      <td>58.165709</td>\n",
       "      <td>58.413909</td>\n",
       "      <td>58.050903</td>\n",
       "      <td>58.798440</td>\n",
       "      <td>57.933964</td>\n",
       "      <td>58.166979</td>\n",
       "      <td>...</td>\n",
       "      <td>55.737936</td>\n",
       "      <td>56.119114</td>\n",
       "      <td>55.879787</td>\n",
       "      <td>55.948125</td>\n",
       "      <td>56.339859</td>\n",
       "      <td>56.091146</td>\n",
       "      <td>56.398024</td>\n",
       "      <td>56.178938</td>\n",
       "      <td>56.447590</td>\n",
       "      <td>56.284447</td>\n",
       "    </tr>\n",
       "    <tr>\n",
       "      <th>min</th>\n",
       "      <td>3.000000</td>\n",
       "      <td>4.000000</td>\n",
       "      <td>2.000000</td>\n",
       "      <td>2.000000</td>\n",
       "      <td>2.000000</td>\n",
       "      <td>1.000000</td>\n",
       "      <td>7.000000</td>\n",
       "      <td>3.000000</td>\n",
       "      <td>7.000000</td>\n",
       "      <td>0.000000</td>\n",
       "      <td>...</td>\n",
       "      <td>2.000000</td>\n",
       "      <td>2.000000</td>\n",
       "      <td>2.000000</td>\n",
       "      <td>1.000000</td>\n",
       "      <td>1.000000</td>\n",
       "      <td>1.000000</td>\n",
       "      <td>1.000000</td>\n",
       "      <td>1.000000</td>\n",
       "      <td>1.000000</td>\n",
       "      <td>1.000000</td>\n",
       "    </tr>\n",
       "    <tr>\n",
       "      <th>25%</th>\n",
       "      <td>102.000000</td>\n",
       "      <td>104.000000</td>\n",
       "      <td>103.000000</td>\n",
       "      <td>103.000000</td>\n",
       "      <td>103.000000</td>\n",
       "      <td>104.000000</td>\n",
       "      <td>104.000000</td>\n",
       "      <td>104.000000</td>\n",
       "      <td>104.000000</td>\n",
       "      <td>103.000000</td>\n",
       "      <td>...</td>\n",
       "      <td>77.000000</td>\n",
       "      <td>76.000000</td>\n",
       "      <td>77.000000</td>\n",
       "      <td>77.000000</td>\n",
       "      <td>77.000000</td>\n",
       "      <td>77.000000</td>\n",
       "      <td>77.000000</td>\n",
       "      <td>75.000000</td>\n",
       "      <td>75.000000</td>\n",
       "      <td>77.000000</td>\n",
       "    </tr>\n",
       "    <tr>\n",
       "      <th>50%</th>\n",
       "      <td>151.000000</td>\n",
       "      <td>149.000000</td>\n",
       "      <td>151.000000</td>\n",
       "      <td>150.000000</td>\n",
       "      <td>149.000000</td>\n",
       "      <td>150.000000</td>\n",
       "      <td>151.000000</td>\n",
       "      <td>152.000000</td>\n",
       "      <td>150.000000</td>\n",
       "      <td>151.000000</td>\n",
       "      <td>...</td>\n",
       "      <td>117.000000</td>\n",
       "      <td>117.000000</td>\n",
       "      <td>115.000000</td>\n",
       "      <td>117.000000</td>\n",
       "      <td>117.000000</td>\n",
       "      <td>116.000000</td>\n",
       "      <td>115.000000</td>\n",
       "      <td>114.000000</td>\n",
       "      <td>114.000000</td>\n",
       "      <td>116.000000</td>\n",
       "    </tr>\n",
       "    <tr>\n",
       "      <th>75%</th>\n",
       "      <td>195.000000</td>\n",
       "      <td>196.000000</td>\n",
       "      <td>195.250000</td>\n",
       "      <td>195.000000</td>\n",
       "      <td>194.000000</td>\n",
       "      <td>196.000000</td>\n",
       "      <td>195.000000</td>\n",
       "      <td>197.000000</td>\n",
       "      <td>196.000000</td>\n",
       "      <td>196.000000</td>\n",
       "      <td>...</td>\n",
       "      <td>165.000000</td>\n",
       "      <td>165.000000</td>\n",
       "      <td>163.000000</td>\n",
       "      <td>165.000000</td>\n",
       "      <td>165.000000</td>\n",
       "      <td>164.250000</td>\n",
       "      <td>163.250000</td>\n",
       "      <td>163.000000</td>\n",
       "      <td>163.000000</td>\n",
       "      <td>165.000000</td>\n",
       "    </tr>\n",
       "    <tr>\n",
       "      <th>max</th>\n",
       "      <td>255.000000</td>\n",
       "      <td>255.000000</td>\n",
       "      <td>255.000000</td>\n",
       "      <td>255.000000</td>\n",
       "      <td>255.000000</td>\n",
       "      <td>255.000000</td>\n",
       "      <td>255.000000</td>\n",
       "      <td>255.000000</td>\n",
       "      <td>255.000000</td>\n",
       "      <td>255.000000</td>\n",
       "      <td>...</td>\n",
       "      <td>255.000000</td>\n",
       "      <td>255.000000</td>\n",
       "      <td>255.000000</td>\n",
       "      <td>255.000000</td>\n",
       "      <td>255.000000</td>\n",
       "      <td>255.000000</td>\n",
       "      <td>255.000000</td>\n",
       "      <td>255.000000</td>\n",
       "      <td>255.000000</td>\n",
       "      <td>255.000000</td>\n",
       "    </tr>\n",
       "  </tbody>\n",
       "</table>\n",
       "<p>8 rows × 40000 columns</p>\n",
       "</div>"
      ],
      "text/plain": [
       "            pixel0       pixel1       pixel2       pixel3       pixel4  \\\n",
       "count  4400.000000  4400.000000  4400.000000  4400.000000  4400.000000   \n",
       "mean    147.846818   148.061136   148.150455   147.713409   146.667045   \n",
       "std      58.279314    58.254313    58.245513    58.154261    58.165709   \n",
       "min       3.000000     4.000000     2.000000     2.000000     2.000000   \n",
       "25%     102.000000   104.000000   103.000000   103.000000   103.000000   \n",
       "50%     151.000000   149.000000   151.000000   150.000000   149.000000   \n",
       "75%     195.000000   196.000000   195.250000   195.000000   194.000000   \n",
       "max     255.000000   255.000000   255.000000   255.000000   255.000000   \n",
       "\n",
       "            pixel5       pixel6       pixel7       pixel8       pixel9  ...  \\\n",
       "count  4400.000000  4400.000000  4400.000000  4400.000000  4400.000000  ...   \n",
       "mean    148.185455   148.241591   149.102727   148.324091   148.221818  ...   \n",
       "std      58.413909    58.050903    58.798440    57.933964    58.166979  ...   \n",
       "min       1.000000     7.000000     3.000000     7.000000     0.000000  ...   \n",
       "25%     104.000000   104.000000   104.000000   104.000000   103.000000  ...   \n",
       "50%     150.000000   151.000000   152.000000   150.000000   151.000000  ...   \n",
       "75%     196.000000   195.000000   197.000000   196.000000   196.000000  ...   \n",
       "max     255.000000   255.000000   255.000000   255.000000   255.000000  ...   \n",
       "\n",
       "        pixel39990   pixel39991   pixel39992   pixel39993   pixel39994  \\\n",
       "count  4400.000000  4400.000000  4400.000000  4400.000000  4400.000000   \n",
       "mean    122.019545   121.823864   120.759318   121.628182   122.100682   \n",
       "std      55.737936    56.119114    55.879787    55.948125    56.339859   \n",
       "min       2.000000     2.000000     2.000000     1.000000     1.000000   \n",
       "25%      77.000000    76.000000    77.000000    77.000000    77.000000   \n",
       "50%     117.000000   117.000000   115.000000   117.000000   117.000000   \n",
       "75%     165.000000   165.000000   163.000000   165.000000   165.000000   \n",
       "max     255.000000   255.000000   255.000000   255.000000   255.000000   \n",
       "\n",
       "        pixel39995   pixel39996   pixel39997   pixel39998   pixel39999  \n",
       "count  4400.000000  4400.000000  4400.000000  4400.000000  4400.000000  \n",
       "mean    121.042500   120.713864   120.187273   120.156136   121.302045  \n",
       "std      56.091146    56.398024    56.178938    56.447590    56.284447  \n",
       "min       1.000000     1.000000     1.000000     1.000000     1.000000  \n",
       "25%      77.000000    77.000000    75.000000    75.000000    77.000000  \n",
       "50%     116.000000   115.000000   114.000000   114.000000   116.000000  \n",
       "75%     164.250000   163.250000   163.000000   163.000000   165.000000  \n",
       "max     255.000000   255.000000   255.000000   255.000000   255.000000  \n",
       "\n",
       "[8 rows x 40000 columns]"
      ]
     },
     "execution_count": 9,
     "metadata": {},
     "output_type": "execute_result"
    }
   ],
   "source": [
    "# average values/distributions of features\n",
    "description = df.describe()\n",
    "description"
   ]
  },
  {
   "cell_type": "markdown",
   "id": "3d55334b-9ab5-48e1-a3ef-f66790a85023",
   "metadata": {},
   "source": [
    "## Data Preparation for Model Building"
   ]
  },
  {
   "cell_type": "code",
   "execution_count": 7,
   "id": "a88c6ecd-d559-4ff1-8ccc-6356a680d67a",
   "metadata": {},
   "outputs": [],
   "source": [
    "import warnings\n",
    "warnings.filterwarnings(\"ignore\")"
   ]
  },
  {
   "cell_type": "code",
   "execution_count": 8,
   "id": "3ca4685c-332f-4950-969b-37aac4fa7bf4",
   "metadata": {},
   "outputs": [
    {
     "name": "stdout",
     "output_type": "stream",
     "text": [
      "(3520, 40000)\n",
      "(880, 40000)\n",
      "(3520,)\n",
      "(880,)\n"
     ]
    }
   ],
   "source": [
    "# Creating training and test sets\n",
    "# Splitting the data into train and test\n",
    "X = df.iloc[:, 1:]\n",
    "Y = df.iloc[:, 0]\n",
    "\n",
    "# Rescaling the features\n",
    "scaler=MinMaxScaler()\n",
    "X=scaler.fit_transform(X)\n",
    "\n",
    "# train test split with train_size=80% and test_size=20%\n",
    "X_train, X_test, y_train, y_test = train_test_split(X, Y, train_size=0.80, random_state=101)\n",
    "print(X_train.shape)\n",
    "print(X_test.shape)\n",
    "print(y_train.shape)\n",
    "print(y_test.shape)"
   ]
  },
  {
   "cell_type": "markdown",
   "id": "464a6d6d-e370-46b7-9cde-de305c5eb259",
   "metadata": {},
   "source": [
    "### Classifiers"
   ]
  },
  {
   "cell_type": "markdown",
   "id": "4f1f7221-b10f-4f6c-8e13-0a9019aa603b",
   "metadata": {},
   "source": [
    "#### GridSearch or testing many parameters each classifier"
   ]
  },
  {
   "cell_type": "code",
   "execution_count": 9,
   "id": "87e0ee32-d836-42f4-8487-529ed8fda1e8",
   "metadata": {},
   "outputs": [],
   "source": [
    "def set_grid(est, param, cv = 20):\n",
    "    cv = GridSearchCV(\n",
    "        estimator = est,\n",
    "        param_grid = param,\n",
    "        cv = cv,\n",
    "        scoring = \"accuracy\",\n",
    "        verbose = 0\n",
    "    )\n",
    "    return cv\n",
    "\n",
    "def print_results(model_cv, X_test_s, y_test):\n",
    "    return (model_cv.best_score_, model_cv.best_params_, model_cv.score(X_test_s, y_test))"
   ]
  },
  {
   "cell_type": "markdown",
   "id": "b7d2f6c5-a08c-4d50-9ec1-f15617af13ca",
   "metadata": {},
   "source": [
    "### KNeighborsClassifier"
   ]
  },
  {
   "cell_type": "code",
   "execution_count": 13,
   "id": "e8e58ebd-45d6-4aa8-8663-2c31bb8cf0dc",
   "metadata": {},
   "outputs": [
    {
     "data": {
      "text/plain": [
       "GridSearchCV(cv=20, estimator=KNeighborsClassifier(),\n",
       "             param_grid={'n_neighbors': range(1, 25)}, scoring='accuracy')"
      ]
     },
     "execution_count": 13,
     "metadata": {},
     "output_type": "execute_result"
    }
   ],
   "source": [
    "knn = KNeighborsClassifier()\n",
    "param_cv = {\"n_neighbors\" : range(1, 25)}\n",
    "\n",
    "knn_cv = set_grid(knn, param_cv)\n",
    "knn_cv.fit(X_train, y_train)"
   ]
  },
  {
   "cell_type": "code",
   "execution_count": 14,
   "id": "33384efb-aaca-43eb-950e-4e250bfb4057",
   "metadata": {},
   "outputs": [
    {
     "data": {
      "text/plain": [
       "(0.3042613636363636, {'n_neighbors': 1}, 0.3090909090909091)"
      ]
     },
     "execution_count": 14,
     "metadata": {},
     "output_type": "execute_result"
    }
   ],
   "source": [
    "print_results(knn_cv, X_test, y_test)"
   ]
  },
  {
   "cell_type": "code",
   "execution_count": 15,
   "id": "048a6798-2a95-402a-a504-77eb4652a7c9",
   "metadata": {},
   "outputs": [
    {
     "data": {
      "text/plain": [
       "array([[35,  0,  0,  5,  1,  0,  0,  0,  9,  1, 30],\n",
       "       [ 0,  7,  0, 28,  0,  0,  2,  3, 16,  0, 17],\n",
       "       [ 0,  0,  1, 21,  0,  0,  3,  3, 17,  0, 35],\n",
       "       [ 0,  0,  0, 51,  0,  0,  1,  2, 13,  0,  9],\n",
       "       [ 0,  0,  2, 17, 20,  0,  0,  6, 14,  1, 32],\n",
       "       [ 0,  0,  0, 27,  1, 21,  5,  1, 13,  0, 23],\n",
       "       [ 0,  0,  0, 24,  0,  0,  9,  0, 15,  1, 31],\n",
       "       [ 0,  0,  0, 16,  4,  0,  3, 16, 21,  1, 24],\n",
       "       [ 0,  0,  0, 14,  0,  0,  2,  0, 63,  0,  0],\n",
       "       [ 0,  0,  0, 18,  0,  0,  2,  1, 15,  2, 21],\n",
       "       [ 0,  1,  0, 24,  1,  0,  8,  0,  3,  0, 47]], dtype=int64)"
      ]
     },
     "execution_count": 15,
     "metadata": {},
     "output_type": "execute_result"
    }
   ],
   "source": [
    "# evaluation: Confusion Matrix\n",
    "confusion_knn = metrics.confusion_matrix(y_true = y_test, y_pred = knn_cv.predict(X_test))\n",
    "confusion_knn"
   ]
  },
  {
   "cell_type": "code",
   "execution_count": 16,
   "id": "92dcb14c-6087-471c-bd51-a9511e313c42",
   "metadata": {},
   "outputs": [
    {
     "data": {
      "text/plain": [
       "array(['Atriplex', 'Calotropis procera', 'Capparis', 'Deplotaxis harra',\n",
       "       'Forskalii', 'Heliotropium', 'Lycium shawii', 'Ocradinus',\n",
       "       'Pharsetia aegyptia', 'Zilla spinosa', 'Zygophyllum coccinium'],\n",
       "      dtype=object)"
      ]
     },
     "execution_count": 16,
     "metadata": {},
     "output_type": "execute_result"
    }
   ],
   "source": [
    "plants = df.label.unique()\n",
    "plants"
   ]
  },
  {
   "cell_type": "code",
   "execution_count": 17,
   "id": "756843ae-9f11-45a4-8857-ac5523b9a09d",
   "metadata": {},
   "outputs": [
    {
     "name": "stdout",
     "output_type": "stream",
     "text": [
      "Saving figure KNeighbors_cm\n"
     ]
    },
    {
     "data": {
      "image/png": "[encoded data removed]",
      "text/plain": [
       "<Figure size 720x504 with 2 Axes>"
      ]
     },
     "metadata": {
      "needs_background": "light"
     },
     "output_type": "display_data"
    }
   ],
   "source": [
    "df_cm_knn = pd.DataFrame(confusion_knn, index = [i for i in plants],\n",
    "                  columns = [i for i in plants])\n",
    "plt.figure(figsize = (10,7))\n",
    "sns.heatmap(df_cm_knn, annot=True,fmt='d',cmap=plt.cm.Blues)\n",
    "save_fig(\"KNeighbors_cm\")"
   ]
  },
  {
   "cell_type": "code",
   "execution_count": 18,
   "id": "b1d3dd19-f083-40c7-ade1-84504bd25ddd",
   "metadata": {},
   "outputs": [
    {
     "data": {
      "text/plain": [
       "0.3090909090909091"
      ]
     },
     "execution_count": 18,
     "metadata": {},
     "output_type": "execute_result"
    }
   ],
   "source": [
    "# measure accuracy\n",
    "metrics.accuracy_score(y_true=y_test, y_pred=knn_cv.predict(X_test))"
   ]
  },
  {
   "cell_type": "markdown",
   "id": "fb06c31b-d71a-4e21-b949-55b501afcc1d",
   "metadata": {},
   "source": [
    "### DecisionTreeClassifier"
   ]
  },
  {
   "cell_type": "code",
   "execution_count": 29,
   "id": "6a33d5f4-658f-4f6d-9841-f38a7652c4da",
   "metadata": {},
   "outputs": [
    {
     "data": {
      "text/plain": [
       "GridSearchCV(cv=20, estimator=DecisionTreeClassifier(),\n",
       "             param_grid={'max_depth': [5, 7, 10],\n",
       "                         'min_samples_split': [30, 40, 45]},\n",
       "             scoring='accuracy')"
      ]
     },
     "execution_count": 29,
     "metadata": {},
     "output_type": "execute_result"
    }
   ],
   "source": [
    "dt = DecisionTreeClassifier(criterion='gini')\n",
    "param_cv = {\"max_depth\" : [5, 7, 10], \"min_samples_split\" : [30, 40, 45]}\n",
    "dt_cv = set_grid(dt, param_cv)\n",
    "dt_cv.fit(X_train, y_train)"
   ]
  },
  {
   "cell_type": "code",
   "execution_count": 30,
   "id": "6774d5bb-7583-4037-ad99-6282043746b4",
   "metadata": {},
   "outputs": [
    {
     "data": {
      "text/plain": [
       "(0.2923295454545455,\n",
       " {'max_depth': 10, 'min_samples_split': 40},\n",
       " 0.30227272727272725)"
      ]
     },
     "execution_count": 30,
     "metadata": {},
     "output_type": "execute_result"
    }
   ],
   "source": [
    "print_results(dt_cv, X_test, y_test)"
   ]
  },
  {
   "cell_type": "code",
   "execution_count": 31,
   "id": "e4fa63ec-63fb-46a3-9c6b-c8b350250fb6",
   "metadata": {},
   "outputs": [
    {
     "data": {
      "text/plain": [
       "array([[32,  0,  6,  2,  0,  3,  1,  4, 16, 12,  5],\n",
       "       [ 3,  1,  1,  7,  1,  1,  7, 14, 22, 14,  2],\n",
       "       [ 7,  4, 10,  6,  2,  3,  3, 16, 13,  9,  7],\n",
       "       [ 1,  1,  1, 22,  0,  2,  2,  6, 28, 11,  2],\n",
       "       [ 0,  0,  0,  0, 92,  0,  0,  0,  0,  0,  0],\n",
       "       [ 6,  7,  1,  4,  0, 20,  2, 12, 22, 12,  5],\n",
       "       [ 5,  1,  2, 12,  0,  1,  4, 10, 34,  4,  7],\n",
       "       [ 4,  3,  4,  9,  0,  1,  3, 16, 23, 13,  9],\n",
       "       [ 2,  0,  2,  7,  0,  0,  3, 14, 43,  8,  0],\n",
       "       [ 2,  1,  7,  5,  0,  0,  2,  9, 16, 13,  4],\n",
       "       [ 5,  3, 15,  6,  0,  0,  2, 10, 15, 15, 13]], dtype=int64)"
      ]
     },
     "execution_count": 31,
     "metadata": {},
     "output_type": "execute_result"
    }
   ],
   "source": [
    "# evaluation: Confusion Matrix\n",
    "confusion_dt = metrics.confusion_matrix(y_true = y_test, y_pred = dt_cv.predict(X_test))\n",
    "confusion_dt"
   ]
  },
  {
   "cell_type": "code",
   "execution_count": 32,
   "id": "01776429-1e61-4fcc-a36c-6f46b58a75ee",
   "metadata": {},
   "outputs": [
    {
     "name": "stdout",
     "output_type": "stream",
     "text": [
      "Saving figure Decision_tree_cm\n"
     ]
    },
    {
     "data": {
      "image/png": "[encoded data removed]",
      "text/plain": [
       "<Figure size 720x504 with 2 Axes>"
      ]
     },
     "metadata": {
      "needs_background": "light"
     },
     "output_type": "display_data"
    }
   ],
   "source": [
    "df_cm_dt = pd.DataFrame(confusion_dt, index = [i for i in plants],\n",
    "                  columns = [i for i in plants])\n",
    "plt.figure(figsize = (10,7))\n",
    "sns.heatmap(df_cm_dt, annot=True,fmt='d',cmap=plt.cm.Blues)\n",
    "save_fig(\"Decision_tree_cm\")"
   ]
  },
  {
   "cell_type": "code",
   "execution_count": 33,
   "id": "7f51d97d-8fe1-4dc9-b8df-06448d876ce5",
   "metadata": {},
   "outputs": [
    {
     "data": {
      "text/plain": [
       "0.30227272727272725"
      ]
     },
     "execution_count": 33,
     "metadata": {},
     "output_type": "execute_result"
    }
   ],
   "source": [
    "# measure accuracy\n",
    "metrics.accuracy_score(y_true=y_test, y_pred=dt_cv.predict(X_test))"
   ]
  },
  {
   "cell_type": "markdown",
   "id": "e02d68d3-5f21-4c8f-874b-9da6ef48db78",
   "metadata": {},
   "source": [
    "### RandomForestClassifier"
   ]
  },
  {
   "cell_type": "code",
   "execution_count": 34,
   "id": "eb6281fa-96da-40d6-a85d-e570b6b002e9",
   "metadata": {},
   "outputs": [
    {
     "data": {
      "text/plain": [
       "GridSearchCV(cv=20, estimator=RandomForestClassifier(n_estimators=500),\n",
       "             param_grid={'max_depth': [5, 7, 10],\n",
       "                         'min_samples_split': [30, 40, 45]},\n",
       "             scoring='accuracy')"
      ]
     },
     "execution_count": 34,
     "metadata": {},
     "output_type": "execute_result"
    }
   ],
   "source": [
    "rf = RandomForestClassifier(n_estimators = 500)\n",
    "param_cv = {\"max_depth\" : [5, 7, 10], \"min_samples_split\" : [30, 40, 45]}\n",
    "rf_cv = set_grid(rf, param_cv)\n",
    "rf_cv.fit(X_train, y_train)"
   ]
  },
  {
   "cell_type": "code",
   "execution_count": 35,
   "id": "aea70086-a5b7-463b-882b-69471c8cff20",
   "metadata": {},
   "outputs": [
    {
     "data": {
      "text/plain": [
       "(0.5079545454545454,\n",
       " {'max_depth': 10, 'min_samples_split': 30},\n",
       " 0.5409090909090909)"
      ]
     },
     "execution_count": 35,
     "metadata": {},
     "output_type": "execute_result"
    }
   ],
   "source": [
    "print_results(rf_cv, X_test, y_test)"
   ]
  },
  {
   "cell_type": "code",
   "execution_count": 36,
   "id": "304e4207-2041-40c3-af9e-b0bcbc1974d0",
   "metadata": {},
   "outputs": [
    {
     "data": {
      "text/plain": [
       "array([[51,  0,  1,  5,  0,  3,  0,  1,  1,  8, 11],\n",
       "       [ 3, 10,  2, 18,  1,  5,  0,  8,  9,  5, 12],\n",
       "       [ 7,  0, 24,  8,  2, 10,  1,  8,  2,  4, 14],\n",
       "       [ 0,  3,  0, 57,  0,  2,  1,  2,  5,  4,  2],\n",
       "       [ 0,  0,  0,  0, 92,  0,  0,  0,  0,  0,  0],\n",
       "       [11,  2,  1,  2,  0, 59,  0,  5,  0,  2,  9],\n",
       "       [11,  1,  1, 28,  1,  1,  5,  4, 11,  9,  8],\n",
       "       [10,  6,  0, 11,  0,  1,  0, 41,  2,  2, 12],\n",
       "       [ 2,  0,  0,  9,  0,  1,  0,  2, 61,  4,  0],\n",
       "       [ 5,  7,  0, 10,  1,  2,  1,  8,  2, 15,  8],\n",
       "       [ 7,  0,  0,  8,  0,  2,  0,  0,  3,  3, 61]], dtype=int64)"
      ]
     },
     "execution_count": 36,
     "metadata": {},
     "output_type": "execute_result"
    }
   ],
   "source": [
    "# evaluation: Confusion Matrix\n",
    "confusion_rf = metrics.confusion_matrix(y_true = y_test, y_pred = rf_cv.predict(X_test))\n",
    "confusion_rf"
   ]
  },
  {
   "cell_type": "code",
   "execution_count": 37,
   "id": "81b3c06b-52dc-4a53-9e3f-c79ba4fbd83c",
   "metadata": {},
   "outputs": [
    {
     "name": "stdout",
     "output_type": "stream",
     "text": [
      "Saving figure Random_forest_cm\n"
     ]
    },
    {
     "data": {
      "image/png": "[encoded data removed]",
      "text/plain": [
       "<Figure size 720x504 with 2 Axes>"
      ]
     },
     "metadata": {
      "needs_background": "light"
     },
     "output_type": "display_data"
    }
   ],
   "source": [
    "df_cm_rf = pd.DataFrame(confusion_rf, index = [i for i in plants],\n",
    "                  columns = [i for i in plants])\n",
    "plt.figure(figsize = (10,7))\n",
    "sns.heatmap(df_cm_rf, annot=True,fmt='d',cmap=plt.cm.Blues)\n",
    "save_fig(\"Random_forest_cm\")"
   ]
  },
  {
   "cell_type": "code",
   "execution_count": 38,
   "id": "2917c02f-0c18-4820-809d-bbbe65e995f1",
   "metadata": {},
   "outputs": [
    {
     "data": {
      "text/plain": [
       "0.5409090909090909"
      ]
     },
     "execution_count": 38,
     "metadata": {},
     "output_type": "execute_result"
    }
   ],
   "source": [
    "# measure accuracy\n",
    "metrics.accuracy_score(y_true=y_test, y_pred=rf_cv.predict(X_test))"
   ]
  },
  {
   "cell_type": "markdown",
   "id": "15de9af1-0b6e-4957-b407-2e0189eeb35b",
   "metadata": {},
   "source": [
    "### GradientBoostingClassifier"
   ]
  },
  {
   "cell_type": "code",
   "execution_count": null,
   "id": "b0a4bec7-ec66-4ae8-97dc-1cdaded02b71",
   "metadata": {},
   "outputs": [],
   "source": [
    "gb = GradientBoostingClassifier(n_estimators = 700)\n",
    "param_cv = {\"learning_rate\" : [0.001, 0.01, 1, 5], \"max_depth\": [3, 10, 15]}\n",
    "gb_cv = set_grid(gb, param_cv)\n",
    "gb_cv.fit(X_train, y_train)"
   ]
  },
  {
   "cell_type": "code",
   "execution_count": null,
   "id": "d7acaa4a-8dfe-46d1-988f-7217f6d28897",
   "metadata": {},
   "outputs": [],
   "source": [
    "print_results(gb_cv, X_test, y_test)"
   ]
  },
  {
   "cell_type": "code",
   "execution_count": null,
   "id": "08a22d85-f0d2-4ea3-8ef7-ce860a3ed1de",
   "metadata": {},
   "outputs": [],
   "source": [
    "# evaluation: Confusion Matrix\n",
    "confusion_gb = metrics.confusion_matrix(y_true = y_test, y_pred = gb_cv.predict(X_test))\n",
    "confusion_gb"
   ]
  },
  {
   "cell_type": "code",
   "execution_count": null,
   "id": "6f9ef0b4-ee30-4fd1-ba76-e2d26a98401a",
   "metadata": {},
   "outputs": [],
   "source": [
    "df_cm_gb = pd.DataFrame(confusion_gb, index = [i for i in plants],\n",
    "                  columns = [i for i in plants])\n",
    "plt.figure(figsize = (10,7))\n",
    "sns.heatmap(df_cm_gb, annot=True,fmt='d',cmap=plt.cm.Blues)\n",
    "save_fig(\"gradient_boosting_cm\")"
   ]
  },
  {
   "cell_type": "code",
   "execution_count": null,
   "id": "389d8bde-b38a-4b33-9296-c4d21c3a47a7",
   "metadata": {},
   "outputs": [],
   "source": [
    "# measure accuracy\n",
    "metrics.accuracy_score(y_true=y_test, y_pred=gb_cv.predict(X_test))"
   ]
  },
  {
   "cell_type": "markdown",
   "id": "9e7e77ae-56f3-4ec8-8a0e-c0721b412835",
   "metadata": {},
   "source": [
    "### SVM Linear"
   ]
  },
  {
   "cell_type": "code",
   "execution_count": 19,
   "id": "8743a046-57bc-4ed7-9ccb-1a6e3a464cf7",
   "metadata": {},
   "outputs": [
    {
     "data": {
      "text/plain": [
       "GridSearchCV(cv=20, estimator=SVC(kernel='linear'),\n",
       "             param_grid={'C': [0.001, 0.01, 1, 3]}, scoring='accuracy')"
      ]
     },
     "execution_count": 19,
     "metadata": {},
     "output_type": "execute_result"
    }
   ],
   "source": [
    "svc_linear = SVC(kernel = \"linear\")\n",
    "param_cv = {\"C\": [0.001, 0.01, 1, 3]}\n",
    "svc_linear_cv = set_grid(svc_linear, param_cv)\n",
    "svc_linear_cv.fit(X_train, y_train)"
   ]
  },
  {
   "cell_type": "code",
   "execution_count": 20,
   "id": "4916881f-1540-489d-9d0e-9067976b7022",
   "metadata": {},
   "outputs": [
    {
     "data": {
      "text/plain": [
       "(0.46079545454545456, {'C': 0.01}, 0.46136363636363636)"
      ]
     },
     "execution_count": 20,
     "metadata": {},
     "output_type": "execute_result"
    }
   ],
   "source": [
    "print_results(svc_linear_cv, X_test, y_test)"
   ]
  },
  {
   "cell_type": "code",
   "execution_count": 21,
   "id": "17353656-c4b5-4ad9-b578-2407a174fcf2",
   "metadata": {},
   "outputs": [
    {
     "data": {
      "text/plain": [
       "array([[58,  4,  0,  2,  2,  2,  2,  4,  0,  2,  5],\n",
       "       [ 3, 23,  3,  7,  0,  4, 12,  7,  5,  1,  8],\n",
       "       [ 3,  7,  6, 12,  3,  3, 11,  4,  1,  6, 24],\n",
       "       [ 2, 13,  3, 40,  0,  0,  9,  1,  0,  6,  2],\n",
       "       [ 6,  5,  1,  6, 58,  3,  3,  2,  0,  5,  3],\n",
       "       [ 5, 10,  4,  8,  1, 42,  8,  2,  1,  2,  8],\n",
       "       [ 7,  6,  2, 19,  3,  3, 19,  5,  4,  3,  9],\n",
       "       [ 2, 12,  1, 10,  0,  2,  6, 40,  0,  3,  9],\n",
       "       [ 0,  3,  0,  6,  1,  1,  2,  0, 60,  4,  2],\n",
       "       [ 1, 12,  6,  7,  2,  3, 10,  9,  1,  3,  5],\n",
       "       [ 5,  2,  3,  6,  1,  3,  5,  0,  1,  1, 57]], dtype=int64)"
      ]
     },
     "execution_count": 21,
     "metadata": {},
     "output_type": "execute_result"
    }
   ],
   "source": [
    "# evaluation: Confusion Matrix\n",
    "confusion_svml = metrics.confusion_matrix(y_true = y_test, y_pred = svc_linear_cv.predict(X_test))\n",
    "confusion_svml"
   ]
  },
  {
   "cell_type": "code",
   "execution_count": 22,
   "id": "4b1b1841-22ea-47d6-a139-912954a85d9a",
   "metadata": {},
   "outputs": [
    {
     "name": "stdout",
     "output_type": "stream",
     "text": [
      "Saving figure svm_linear_cm\n"
     ]
    },
    {
     "data": {
      "image/png": "[encoded data removed]",
      "text/plain": [
       "<Figure size 720x504 with 2 Axes>"
      ]
     },
     "metadata": {
      "needs_background": "light"
     },
     "output_type": "display_data"
    }
   ],
   "source": [
    "df_cm_svml = pd.DataFrame(confusion_svml, index = [i for i in plants],\n",
    "                  columns = [i for i in plants])\n",
    "plt.figure(figsize = (10,7))\n",
    "sns.heatmap(df_cm_svml, annot=True,fmt='d',cmap=plt.cm.Blues)\n",
    "save_fig(\"svm_linear_cm\")"
   ]
  },
  {
   "cell_type": "code",
   "execution_count": 23,
   "id": "9a4d144b-79c5-4ac6-94b9-c55c6b3dd2e2",
   "metadata": {},
   "outputs": [
    {
     "data": {
      "text/plain": [
       "0.46136363636363636"
      ]
     },
     "execution_count": 23,
     "metadata": {},
     "output_type": "execute_result"
    }
   ],
   "source": [
    "# measure accuracy\n",
    "metrics.accuracy_score(y_true=y_test, y_pred=svc_linear_cv.predict(X_test))"
   ]
  },
  {
   "cell_type": "markdown",
   "id": "0b100a5e-9d49-457f-ae99-3ce8b99d4c1f",
   "metadata": {},
   "source": [
    "### SVM rbf"
   ]
  },
  {
   "cell_type": "code",
   "execution_count": 24,
   "id": "5a371d13-f541-44b0-b403-022daca5bc8b",
   "metadata": {},
   "outputs": [
    {
     "data": {
      "text/plain": [
       "GridSearchCV(cv=20, estimator=SVC(),\n",
       "             param_grid={'C': [10, 20, 30, 40], 'gamma': [0.1, 0.5, 1, 5, 10]},\n",
       "             scoring='accuracy')"
      ]
     },
     "execution_count": 24,
     "metadata": {},
     "output_type": "execute_result"
    }
   ],
   "source": [
    "svc_rb = SVC(kernel = \"rbf\")\n",
    "param_cv = {\"C\" : [10, 20, 30, 40], \"gamma\" : [0.1, 0.5, 1, 5, 10]}\n",
    "svc_rb_cv = set_grid(svc_rb, param_cv)\n",
    "svc_rb_cv.fit(X_train, y_train)"
   ]
  },
  {
   "cell_type": "code",
   "execution_count": 25,
   "id": "9684f9be-f998-49cf-aabb-938a485a543c",
   "metadata": {},
   "outputs": [
    {
     "data": {
      "text/plain": [
       "(0.14857954545454544, {'C': 10, 'gamma': 0.1}, 0.12613636363636363)"
      ]
     },
     "execution_count": 25,
     "metadata": {},
     "output_type": "execute_result"
    }
   ],
   "source": [
    "print_results(svc_rb_cv, X_test, y_test)"
   ]
  },
  {
   "cell_type": "code",
   "execution_count": 26,
   "id": "d2a4727d-0d40-4bc7-a4fa-478c1b9c777f",
   "metadata": {},
   "outputs": [
    {
     "data": {
      "text/plain": [
       "array([[ 0,  0,  0,  0,  0,  0,  0,  0,  0, 81,  0],\n",
       "       [ 0,  0,  0,  0,  0,  0,  0,  0,  0, 73,  0],\n",
       "       [ 0,  0,  0,  0,  0,  0,  0,  0,  0, 80,  0],\n",
       "       [ 0,  0,  0,  0,  0,  0,  0,  0,  0, 76,  0],\n",
       "       [ 0,  0,  0,  0,  0,  0,  0,  0,  0, 92,  0],\n",
       "       [ 0,  0,  0,  0,  0,  0,  0,  0,  0, 91,  0],\n",
       "       [ 0,  0,  0,  0,  0,  0,  0,  0,  0, 80,  0],\n",
       "       [ 0,  0,  0,  0,  0,  0,  0,  0,  0, 85,  0],\n",
       "       [ 0,  0,  0,  0,  0,  0,  0,  0, 52, 27,  0],\n",
       "       [ 0,  0,  0,  0,  0,  0,  0,  0,  0, 59,  0],\n",
       "       [ 0,  0,  0,  0,  0,  0,  0,  0,  0, 84,  0]], dtype=int64)"
      ]
     },
     "execution_count": 26,
     "metadata": {},
     "output_type": "execute_result"
    }
   ],
   "source": [
    "# evaluation: Confusion Matrix\n",
    "confusion_svmr = metrics.confusion_matrix(y_true = y_test, y_pred = svc_rb_cv.predict(X_test))\n",
    "confusion_svmr"
   ]
  },
  {
   "cell_type": "code",
   "execution_count": 27,
   "id": "e8f9e55a-f240-4140-805f-03969c681f07",
   "metadata": {},
   "outputs": [
    {
     "name": "stdout",
     "output_type": "stream",
     "text": [
      "Saving figure svm_rbf_cm\n"
     ]
    },
    {
     "data": {
      "image/png": "[encoded data removed]",
      "text/plain": [
       "<Figure size 720x504 with 2 Axes>"
      ]
     },
     "metadata": {
      "needs_background": "light"
     },
     "output_type": "display_data"
    }
   ],
   "source": [
    "df_cm_svmr = pd.DataFrame(confusion_svmr, index = [i for i in plants],\n",
    "                  columns = [i for i in plants])\n",
    "plt.figure(figsize = (10,7))\n",
    "sns.heatmap(df_cm_svmr, annot=True,fmt='d',cmap=plt.cm.Blues)\n",
    "save_fig(\"svm_rbf_cm\")"
   ]
  },
  {
   "cell_type": "code",
   "execution_count": 28,
   "id": "2d5fb531-8662-4e56-998b-cccf13dc8018",
   "metadata": {},
   "outputs": [
    {
     "data": {
      "text/plain": [
       "0.12613636363636363"
      ]
     },
     "execution_count": 28,
     "metadata": {},
     "output_type": "execute_result"
    }
   ],
   "source": [
    "# measure accuracy\n",
    "metrics.accuracy_score(y_true=y_test, y_pred=svc_rb_cv.predict(X_test))"
   ]
  },
  {
   "cell_type": "markdown",
   "id": "90f62ac4-49c6-406e-af7f-e74959dcfebd",
   "metadata": {},
   "source": [
    "### VotingClassifier"
   ]
  },
  {
   "cell_type": "code",
   "execution_count": null,
   "id": "b5772de1-9a9f-4c59-88ef-41fc5c1d9deb",
   "metadata": {},
   "outputs": [],
   "source": [
    "from sklearn.ensemble import VotingClassifier\n",
    "\n",
    "classifiers = [\n",
    "    ('svc_rbf', SVC(kernel = \"rbf\", C = 20, gamma = 0.5)),\n",
    "    ('gb', GradientBoostingClassifier(learning_rate = 0.01, max_depth = 10)),\n",
    "    ('rv', RandomForestClassifier(n_estimators = 700, max_depth = 7, min_samples_split = 30)),\n",
    "    ('lg', LogisticRegression())\n",
    "]\n",
    "\n",
    "clf = VotingClassifier(classifiers, voting = \"hard\")"
   ]
  },
  {
   "cell_type": "code",
   "execution_count": null,
   "id": "824a7d40-b7a9-40a5-b4ee-4acb44248969",
   "metadata": {},
   "outputs": [],
   "source": [
    "clf.fit(X_train, y_train)\n",
    "clf.score(X_test, y_test)"
   ]
  },
  {
   "cell_type": "code",
   "execution_count": null,
   "id": "adef7046-ba66-41a1-a790-7d490e2dcfee",
   "metadata": {},
   "outputs": [],
   "source": [
    "print_results(clf, X_test, y_test)"
   ]
  },
  {
   "cell_type": "code",
   "execution_count": null,
   "id": "fc4d6b3f-6af3-43af-b57c-920182a13a61",
   "metadata": {},
   "outputs": [],
   "source": [
    "# evaluation: Confusion Matrix\n",
    "confusion = metrics.confusion_matrix(y_true = y_test, y_pred = clf.predict(X_test))\n",
    "confusion"
   ]
  },
  {
   "cell_type": "code",
   "execution_count": null,
   "id": "24469ab0-1894-4074-bdcf-5cce51563d4a",
   "metadata": {},
   "outputs": [],
   "source": [
    "df_cm = pd.DataFrame(confusion, index = [i for i in plants],\n",
    "                  columns = [i for i in plants])\n",
    "plt.figure(figsize = (10,7))\n",
    "sns.heatmap(df_cm, annot=True,fmt='d',cmap=plt.cm.Blues)\n",
    "save_fig(\"clf_cm\")"
   ]
  },
  {
   "cell_type": "code",
   "execution_count": null,
   "id": "0534c4b1-62e5-4f93-957e-95bfdb86c695",
   "metadata": {},
   "outputs": [],
   "source": [
    "# measure accuracy\n",
    "metrics.accuracy_score(y_true=y_test, y_pred=clf.predict(X_test))"
   ]
  },
  {
   "cell_type": "code",
   "execution_count": null,
   "id": "bf48328a-cd3e-4959-9e09-ccd54e827428",
   "metadata": {},
   "outputs": [],
   "source": []
  },
  {
   "cell_type": "code",
   "execution_count": null,
   "id": "d0fa1e4c-d75c-4694-9996-84ee75e4e554",
   "metadata": {},
   "outputs": [],
   "source": []
  },
  {
   "cell_type": "code",
   "execution_count": null,
   "id": "7514747f-f1db-458b-b317-7d25f591aa0a",
   "metadata": {},
   "outputs": [],
   "source": []
  },
  {
   "cell_type": "code",
   "execution_count": null,
   "id": "1ca57298-050c-4f32-8777-26cd5e6008c9",
   "metadata": {},
   "outputs": [],
   "source": []
  }
 ],
 "metadata": {
  "kernelspec": {
   "display_name": "Python 3 (ipykernel)",
   "language": "python",
   "name": "python3"
  },
  "language_info": {
   "codemirror_mode": {
    "name": "ipython",
    "version": 3
   },
   "file_extension": ".py",
   "mimetype": "text/x-python",
   "name": "python",
   "nbconvert_exporter": "python",
   "pygments_lexer": "ipython3",
   "version": "3.9.7"
  }
 },
 "nbformat": 4,
 "nbformat_minor": 5
}
